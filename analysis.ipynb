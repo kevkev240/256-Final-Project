{
 "cells": [
  {
   "cell_type": "code",
   "execution_count": 22,
   "metadata": {},
   "outputs": [
    {
     "name": "stdout",
     "output_type": "stream",
     "text": [
      "6421 6421 6370\n",
      "6370 6370 6370 6370\n",
      "Pre-trained Model\n",
      "{'tp': 1015, 'fp': 2929, 'fn': 692, 'tn': 1734, 'fpr': 0.6281363928801201, 'fnr': 0.4053895723491506, 'accuracy': 0.43155416012558867, 'recall': 0.5946104276508495, 'precision': 0.25735294117647056}\n",
      "Fine-tuned Model\n",
      "{'tp': 1398, 'fp': 330, 'fn': 309, 'tn': 4333, 'fpr': 0.07076989062835085, 'fnr': 0.18101933216168717, 'accuracy': 0.8996860282574568, 'recall': 0.8189806678383128, 'precision': 0.8090277777777778}\n",
      "Perspective API\n",
      "{'tp': 969, 'fp': 169, 'fn': 738, 'tn': 4494, 'fpr': 0.036242762170276645, 'fnr': 0.43233743409490333, 'accuracy': 0.8576138147566719, 'recall': 0.5676625659050967, 'precision': 0.851493848857645}\n"
     ]
    }
   ],
   "source": [
    "import json\n",
    "import os\n",
    "import pandas as pd\n",
    "from matplotlib import pyplot as plt\n",
    "\n",
    "data_dir = \"./data\"\n",
    "if not os.path.exists(data_dir):\n",
    "  os.makedirs(data_dir)\n",
    "\n",
    "res_dir = \"./results\"\n",
    "if not os.path.exists(res_dir):\n",
    "  os.makedirs(res_dir)\n",
    "\n",
    "speech_df = pd.read_csv(os.path.join(data_dir, \"test.csv\"))\n",
    "\n",
    "messages = speech_df[\"Message\"].tolist()\n",
    "labels = speech_df[\"Aggressive\"].tolist()\n",
    "\n",
    "with open(os.path.join(res_dir, \"pre_trained_pred.json\"), \"r\") as f:\n",
    "  pre_trained_pred = json.load(f)\n",
    "with open(os.path.join(res_dir, \"fine_tuned_pred.json\"), \"r\") as f:\n",
    "  fine_tuned_pred = json.load(f)\n",
    "with open(os.path.join(res_dir, \"perspective_indices.json\"), \"r\") as f:\n",
    "  perspective_indices = json.load(f)\n",
    "with open(os.path.join(res_dir, \"perspective_probs.json\"), \"r\") as f:\n",
    "  perspective_probs = json.load(f)\n",
    "with open(os.path.join(res_dir, \"perspective_pred.json\"), \"r\") as f:\n",
    "  perspective_pred = json.load(f)\n",
    "\n",
    "print(len(pre_trained_pred), len(fine_tuned_pred), len(perspective_pred))\n",
    "\n",
    "labels = [label for i, label in enumerate(labels) if i in perspective_indices]\n",
    "pre_trained_pred = [pred for i, pred in enumerate(pre_trained_pred) if  i in perspective_indices]\n",
    "fine_tuned_pred = [pred for i, pred in enumerate(fine_tuned_pred) if  i in perspective_indices]\n",
    "\n",
    "print(len(pre_trained_pred), len(fine_tuned_pred), len(perspective_pred), len(labels))\n",
    "\n",
    "def get_classification_result(y_true, y_pred):\n",
    "  result = {\"TP\": [], \"FP\": [], \"FN\": [], \"TN\": []}\n",
    "  for i, (true, pred) in enumerate(zip(y_true, y_pred)):\n",
    "    if true == 1 and pred == 1:\n",
    "      result[\"TP\"].append(i)\n",
    "    elif true == 1 and pred == 0:\n",
    "      result[\"FN\"].append(i)\n",
    "    elif true == 0 and pred == 1:\n",
    "      result[\"FP\"].append(i)\n",
    "    elif true == 0 and pred == 0:\n",
    "      result[\"TN\"].append(i)\n",
    "  return result\n",
    "\n",
    "def get_classification_metrics(classification_result):\n",
    "  metrics = {}\n",
    "\n",
    "  true_pos = len(classification_result[\"TP\"])\n",
    "  false_pos = len(classification_result[\"FP\"])\n",
    "  false_neg = len(classification_result[\"FN\"])\n",
    "  true_neg = len(classification_result[\"TN\"])\n",
    "\n",
    "  metrics[\"tp\"] = true_pos\n",
    "  metrics[\"fp\"] = false_pos\n",
    "  metrics[\"fn\"] = false_neg\n",
    "  metrics[\"tn\"] = true_neg\n",
    "  metrics[\"fpr\"] = false_pos / (false_pos + true_neg)\n",
    "  metrics[\"fnr\"] = false_neg / (false_neg + true_pos)\n",
    "  metrics[\"accuracy\"] = (true_pos + true_neg) / (true_pos + false_pos + false_neg + true_neg)\n",
    "  metrics[\"recall\"] = true_pos / (true_pos + false_neg)\n",
    "  metrics[\"precision\"] = true_pos / (true_pos + false_pos)\n",
    "\n",
    "  return metrics\n",
    "\n",
    "pretrain_result = get_classification_result(labels, pre_trained_pred)\n",
    "fine_tuned_result = get_classification_result(labels, fine_tuned_pred)\n",
    "perspective_result = get_classification_result(labels, perspective_pred)\n",
    "\n",
    "pretrain_metrics = get_classification_metrics(pretrain_result)\n",
    "fine_tuned_metrics = get_classification_metrics(fine_tuned_result)\n",
    "perspective_metrics = get_classification_metrics(perspective_result)\n",
    "\n",
    "print(\"Pre-trained Model\")\n",
    "print(pretrain_metrics)\n",
    "\n",
    "print(\"Fine-tuned Model\")\n",
    "print(fine_tuned_metrics)\n",
    "\n",
    "print(\"Perspective API\")\n",
    "print(perspective_metrics)"
   ]
  },
  {
   "cell_type": "code",
   "execution_count": 31,
   "metadata": {},
   "outputs": [
    {
     "name": "stdout",
     "output_type": "stream",
     "text": [
      "Ensembled Model\n",
      "{'tp': 1432, 'fp': 345, 'fn': 275, 'tn': 4318, 'fpr': 0.07398670383873043, 'fnr': 0.1611013473930873, 'accuracy': 0.902668759811617, 'recall': 0.8388986526069128, 'precision': 0.8058525604952167}\n"
     ]
    }
   ],
   "source": [
    "threshold = 0.6\n",
    "\n",
    "ensembled_pred = [max(1 if prob > threshold else 0, pred) for prob, pred in zip(perspective_probs, fine_tuned_pred)]\n",
    "\n",
    "ensembled_result = get_classification_result(labels, ensembled_pred)\n",
    "ensembled_metrics = get_classification_metrics(ensembled_result)\n",
    "\n",
    "print(\"Ensembled Model\")\n",
    "print(ensembled_metrics)"
   ]
  },
  {
   "cell_type": "code",
   "execution_count": 36,
   "metadata": {},
   "outputs": [
    {
     "name": "stdout",
     "output_type": "stream",
     "text": [
      "128\n",
      "245\n"
     ]
    }
   ],
   "source": [
    "import random\n",
    "\n",
    "random.seed(256)\n",
    "\n",
    "fine_tuned_fp = set(fine_tuned_result[\"FP\"])\n",
    "perspective_fp = set(perspective_result[\"FP\"])\n",
    "ensembled_fp = set(ensembled_result[\"FP\"])\n",
    "\n",
    "all_fp = list(fine_tuned_fp & perspective_fp & ensembled_fp)\n",
    "all_fp = random.sample(all_fp, len(all_fp))\n",
    "\n",
    "print(len(all_fp))\n",
    "\n",
    "fine_tuned_fn = set(fine_tuned_result[\"FN\"])\n",
    "perspective_fn = set(perspective_result[\"FN\"])\n",
    "ensembled_fn = set(ensembled_result[\"FN\"])\n",
    "\n",
    "all_fn = list(fine_tuned_fn & perspective_fn & ensembled_fn)\n",
    "all_fn = random.sample(all_fn, len(all_fn))\n",
    "\n",
    "print(len(all_fn))"
   ]
  },
  {
   "cell_type": "code",
   "execution_count": 42,
   "metadata": {},
   "outputs": [
    {
     "name": "stdout",
     "output_type": "stream",
     "text": [
      "False Positive Samples\n",
      "\t Oi twat why are you editing my segments Todd Howard is a twat hence why I said so\n",
      "\t boring prick    get off bobby zamoras page and get outdoors\n",
      "\t You will often find that Xenocidic just talks bollocks Utter bollocks\n",
      "\t I agree with myself on this matter and alas Ive yet to find one pity A fuckin MEN Some kind of new hot garbage idk Not better than slim shady Curious about them and all of you dont get me wrong i hate them they all deserve to die and burn or the other way around but from what i hear god is omnipotent what makes you think you can speak for himherit whatever you get the point only a fag would say that YOURE GOING TO HELL FAG thats when you know youre going to hell And to whoever asked about a guitarist check with Bop Skizzum i think he got back with them\n",
      "\t Nooo massive forehead stays damn it MKR\n",
      "\t There arent many girl alter servers though Why is it that everyone on youtube likes Ron Paul yet Romney has won both Iowa and New HampshireWTF How does this bullshit make sense to anyone Why does everyone on youtube love Ron Paul yet Iowa and New Hampshire gave Romney the win What the hell SOMEONE PLEASE EXPLAIN This is bs Jesus look at that gay soldiers muscles He probrobly holds down weaker soldiers and butt fucks them hard I dont think I would want a faggot like that next to me naked in the shower But outside of the military gay people can do what they want I dont care Poor mexican man in the front Cant understand any of this bullshit thats going on after having a long day mowing yards and laying mulch This isnt what America is supposed to be mr mexican man Doesnt the fact that illegal immigrants taking jobs the illegal way piss anyone off It does for me a little but at the same time I am going to college to get a higher paying career and there is now way in hell an illegal immigrant will be able to take a high job like that But in other circumstances I can see how it affects people And they dont have to pay taxes American is full of fucking idiots I swear to Jesus if one of these nutcases not Ron Paul becomes president I am moving to Canada or Britain and letting the US go up in flames without me because of my dumbass fellow Americans who cant make the right decision Everyone is after you Dr Ron Paul Micahel Moore Fox news the other canidates But We the people my dear friend Dr Ron Paul got your back God help us if you arent elected Any news channel that goes against Ron Paul and what he stands for goes against the American people FAKE FAKE FAKE This is what many people here on youtube say to this video Ill be Captain Obvious todayNO SHIT America FUCK YEAH Lets go kill some sand monkeys OH YEAH WHOO some US Soldiers Then again fuck terroists Damn right but dont record it You will just fuel the fire of the hatred of America Or the whole world will get on your back Whether or not its justified is one persons own opinion but in the opinion of the world ITS NOT JUSTIFIED So dont record it oh mah gawd I am a US citizen and I am against this bullshit Please Iran dont kill us citizens We are not against you US will attack them both for that You dont think they will They are like powerful children they cant have their way and they will bully others for it Santorum please go kill yourself you are a worthless cock sucker who will not get to become the president of the US so go fuck yourself now Damn good point my friend I want to become a secret serice agent just to protect Ron Paul when he gets appointed Bipolar shcizophrenic and autistic Jesus Christ maybe abortion is good Tortue gets false details and it happens to innocent people alot So why the fuck use it Here is an argument Everyone has the right to do what they please if AND ONLY IF it DOES NOT infringe upon the rights of other people What is unfair about this Let me punch you in the boobs This is an amazing song It kind of reminds me of the music from HaloODST Pshh go ahead use my joke on a Dennys video of white people acting up Or on a Bud Light commercial Its not like I said nigger I was polite and said blacks Ashes to ashes dust to dust we dont want to do this but we must we mustcensored by SOPA you SOPA billand censored by SOPA you government if you pass this bill Well you know what I thinkI ducking love SOPAcomment edited by SOPA Its like the Alien and Sedition acts The government tells us one thing but they have a deeper and darker agenda Damn Ohhhhh oh my god please no The FBI will come and arrest them for taking some food from McDonalds The FBI will take time off from catching pedophiles and and serial killers to arrest these two teens for taking some mcdonalds food I was going to vote for Ron Paul but as seeing that he will not make it GO OBAMA The SOPA bill got shut down almost entirely why isnt the NDAA Because the US citizens are cowards Tell congress to go fuck themselves or take it in the ass harshly America FCK YEAHBlack Friday FCK YEAH RnadomChannel Alright man nevermind that niggress is pissing me off now too Why does that black man want amber lamps for his leaking face Algebra blows balls And I get As in it mindbop Slavery in Africa was alot nicer then it was in America They were more like servants in Africa then they were slaves They could eventually work off their slavery and become free unlike in America Slavery put unremovable mark on all negroes In the ghetto Oh look another minority robbing Americas tax payerswho would of guessed Back in the fucking s and shit immigrants were useful todayNOT SO MUCH Blacks on welfare and abusing the system NO NEVER I SAY That is just impossible Blacks are hard workers and would never fuck Americas tax payers\n",
      "\t Vandaliser sajidfairooz IsraeliRegime Go read the history of Algebra in wiki and stop lying and running your mouth\n",
      "\t Trolling Much   Why did you do this Are you a troll\n",
      "\t ah ja und die im video machn nur spass und die knnen was erreichenjungeim welchen zeitalter lebst duDu hast glaub ich weniger gehirn als ne fliege das ist doch einfach unfassbar das da im vide KOmplett alle die da sind sind reinster dreck der der dieser riesmaul hat kriegt irgend wann schon derbe auf die fresseWenn ich ihn irgend wo sehehen werde werde ich ihn den schdel einschlagfen weil er mir derbe auf die eier geht so kam bestimmt die idee was aufzunehmenmeine meinungwieder mal ein grottiger raper kein hass einfach nur ehrliche meinung was meinst du deine mam isn bengel du unerzogener bastard i am no hater but tha fuckthis is talent i am not a coach i am playing  years street football and can do this Oo tha hellofcourse good luck dude D haters gona hate  whowhowho ihr lieben kiddys habt ihr mich vermisstnatrlich nichtich wollt nur sagen das cccp in einem monat geschlossen wird ah mir war langweillig und ich hab nach so einem trash gesucht um ma bissi zu lachenich hab die videos von deren authoren geklaut meine fresse wie oft muss ich noch wiederholen das ich NICHT im vide bin was hast du frn problem du handtuchhalter sollst ma deine klappe halten muckt er hier auf der lmpel hierzisch ab   can u please shut your mouththanks was hab ich dir angetan das su ujetzt so ankommstw enn ich mal fragen darf ehm sorry das ich nicht gleich geantwortet habe ich hatte vor das channel zu schliessenalso es ist ein ausgeshcnittener part von obe  kanobe so heisst dieser rapper das ist alles was er sagt in diesme track alles anderen in diesem track ist scheie weil e snicht von ihm kommt hoffe ich konnte dir helfen die versptung tut mir leid halt die fresse verfickter esel ficker check ma deine einsellungen  deine mama wird an der pest verrecken du UNGLUBIGER OJ OJ OJps ihre muslimische nutten solltet euch mal ins knie ficken ich bin kein digger ich bin der groe CCCPund ndu bist blockier weil ich tgerade bock dazu hab irgend einen eselfiockenden arschloch zu blockieren  es war auch erwartet das es hier einen daumen runter geht und nicht nach oben  halt ma deine fresse verfickter tinni der hat recht deleted all you comments and thinking about what happens nowFUCK YOU nothing happens ich hab ma ganz gut berlegt und ich hab mir berlegt dne ganzen scheiss nochma fr einen monat zu berlegen ob ich den channel hier entferne hrt auf ihn anzuschreiben ich bin in bekannter von enprogroundmisterfailcraft hat ihn blockiert also kann eure nachrichten nicht beantworten will er auch nicht und ihr nerft langsamm mit eurer gepbbel Er sagt ihr seit unerzogene kinder die nix im netzt verloren haben und ich spar mir die mhe meine schrieb fehler zu umegehen den man merkts hier sind teenis in den kommentaren der uploader ist auch einer Man hrts von der redenart und stimme Schreibt mir nicht zurck Bin x im Monat on Hey mal ganz ehrlich ihr mchgte gern rapper geht mir auf die nerfen Hrt auf mich zu adden Falls ihr das seht Ich werde die FE eh nicht annehmen weil ihr alle scheie seit Ihr erzhlt das was nicht stimmt und tut so als wrt ihr richtig hart Ihr knnt mir alle einen blasen Ihr seit zum kotzen BL\n",
      "\t Well Im sure you will provide the required evidence then  Also I will do what I like when expunging utter crap from Wikipedia\n",
      "False Negative Samples\n",
      "\t What happened to breaking a coconut  It was much simple and quick\n",
      "\t you people never work on talents work on some chuthiar factors\n",
      "\t I think she didnt have time for interviews between work and a new baby  this person obviously has time on her hands to throw her world view on everyone\n",
      "\t Trolls all over the boardxcxa There is special place in he ll for those who dance of the graves of good menxcxa Go share a beer with the terrorists more your style buddy\n",
      "\t Zip It   I dont care to hear your whining  Clearly you are here to cause discord not to contribute anything useful to the project\n",
      "\t TPIRFanSteve wouldnt ya know it hes causing problems for you     He is a long standingand I mean LONG STANDING problem on this site I have no idea how he has avoided a ban but this is ridiculous  Hes been basically run out on a one way rail from the Price Is Right articles and similar now I notice hes harassing you all over here as well The best bet is not to confront the trollwhich he has proven to be here and report it to AIV The more people who report himin this case hes harassing editors of a different spectrum the more likely theyll finally block him It would be great if they could get the scumbag off here for good Have a good day\n",
      "\t g girl should give us free net now\n",
      "\t Gosh I dislike those two girls They just arent hot either MKR\n",
      "\t Ridiculous   This is ridiculous  I dont want to have to protect the page over such a petty issue but it looks like I might have to if this keeps on going on  Weve had a poll so far most people want it off what more do you need to know Now theres a new template saying pretty much the exact same thing that was added  I think that  summed it up well when heshe said This is a farce The enduring dispute is whether to have this tag These reversion wars accomplish absolutely nothing  Vacuum I think that youre the one who needs to explain why youre revertingplease do so\n",
      "\t She pretty I love this song I miss the old kelly Ok rihanna  yess I love this song U will be missed I agree with you  On repeat like I love her  yesss Tamar  Yesssss rihanna This song is for my bae Yes I know thats right This my song This my shit ayyyyy I like this song\n"
     ]
    }
   ],
   "source": [
    "k = 10\n",
    "\n",
    "print(\"False Positive Samples\")\n",
    "for i in all_fp[:k]:\n",
    "  print(f'\\t {messages[perspective_indices[i]]}')\n",
    "\n",
    "print(\"False Negative Samples\")\n",
    "for i in all_fn[:k]:\n",
    "  print(f'\\t {messages[perspective_indices[i]]}')"
   ]
  }
 ],
 "metadata": {
  "kernelspec": {
   "display_name": "cse256",
   "language": "python",
   "name": "python3"
  },
  "language_info": {
   "codemirror_mode": {
    "name": "ipython",
    "version": 3
   },
   "file_extension": ".py",
   "mimetype": "text/x-python",
   "name": "python",
   "nbconvert_exporter": "python",
   "pygments_lexer": "ipython3",
   "version": "3.12.7"
  }
 },
 "nbformat": 4,
 "nbformat_minor": 2
}
