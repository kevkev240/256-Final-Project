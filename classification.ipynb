{
 "cells": [
  {
   "cell_type": "code",
   "execution_count": null,
   "metadata": {},
   "outputs": [],
   "source": [
    "import os\n",
    "import pandas as pd\n",
    "from sklearn.model_selection import train_test_split\n",
    "\n",
    "data_dir = \"./data\"\n",
    "if not os.path.exists(data_dir):\n",
    "  os.makedirs(data_dir)\n",
    "\n",
    "speech_df = pd.read_csv(os.path.join(data_dir, \"messages.csv\"))\n",
    "\n",
    "messages = speech_df[\"Message\"].tolist()\n",
    "labels = speech_df[\"Aggressive\"].tolist()\n",
    "\n",
    "train_messages, test_messages, train_labels, test_labels = train_test_split(messages, labels, test_size=0.5, random_state=256, stratify=labels)\n",
    "\n",
    "train_df = pd.DataFrame({\"Message\": train_messages, \"Aggressive\": train_labels})\n",
    "train_df.to_csv(os.path.join(data_dir, \"train.csv\"), index=False)\n",
    "\n",
    "test_messages, _, test_labels, _ = train_test_split(test_messages, test_labels, test_size=0.9, random_state=256, stratify=test_labels)\n",
    "\n",
    "test_df = pd.DataFrame({\"Message\": test_messages, \"Aggressive\": test_labels})\n",
    "test_df.to_csv(os.path.join(data_dir, \"test.csv\"), index=False)"
   ]
  },
  {
   "cell_type": "code",
   "execution_count": 11,
   "metadata": {},
   "outputs": [],
   "source": [
    "import numpy as np\n",
    "import random\n",
    "from tqdm import tqdm\n",
    "import matplotlib.pyplot as plt\n",
    "import torch\n",
    "from sklearn.metrics import accuracy_score\n",
    "\n",
    "seed = 256\n",
    "random.seed(seed)\n",
    "np.random.seed(seed)\n",
    "torch.manual_seed(seed)\n",
    "\n",
    "os.environ[\"TOKENIZERS_PARALLELISM\"] = \"false\""
   ]
  },
  {
   "cell_type": "code",
   "execution_count": 6,
   "metadata": {},
   "outputs": [],
   "source": [
    "from datasets import Dataset\n",
    "from transformers import AutoTokenizer, DataCollatorWithPadding\n",
    "from transformers import AutoModelForSequenceClassification \n",
    "from transformers import TrainingArguments, Trainer\n",
    "import evaluate\n",
    "\n",
    "MODEL_NAME = \"distilbert/distilbert-base-uncased\""
   ]
  },
  {
   "cell_type": "code",
   "execution_count": 5,
   "metadata": {},
   "outputs": [
    {
     "data": {
      "application/vnd.jupyter.widget-view+json": {
       "model_id": "ab613fe12fa74c7ba466b8347a441dc6",
       "version_major": 2,
       "version_minor": 0
      },
      "text/plain": [
       "Map:   0%|          | 0/51375 [00:00<?, ? examples/s]"
      ]
     },
     "metadata": {},
     "output_type": "display_data"
    },
    {
     "data": {
      "application/vnd.jupyter.widget-view+json": {
       "model_id": "34cda0378f184881af2396419a597c97",
       "version_major": 2,
       "version_minor": 0
      },
      "text/plain": [
       "Map:   0%|          | 0/12844 [00:00<?, ? examples/s]"
      ]
     },
     "metadata": {},
     "output_type": "display_data"
    }
   ],
   "source": [
    "dataset = Dataset.from_dict({\"text\": train_messages, \"label\": train_labels})\n",
    "train_test_split = dataset.train_test_split(test_size=0.2)\n",
    "\n",
    "tokenizer = AutoTokenizer.from_pretrained(MODEL_NAME)\n",
    "\n",
    "def preprocess_function(examples):\n",
    "    return tokenizer(examples[\"text\"], truncation=True)\n",
    "\n",
    "tokenized_data = train_test_split.map(preprocess_function, batched=True)\n",
    "tokenized_data.set_format(\"torch\", columns=[\"input_ids\", \"attention_mask\", \"label\"])\n",
    "\n",
    "data_collator = DataCollatorWithPadding(tokenizer=tokenizer)\n",
    "\n",
    "accuracy = evaluate.load(\"accuracy\")\n",
    "def compute_metrics(eval_pred):\n",
    "    predictions, labels = eval_pred\n",
    "    predictions = np.argmax(predictions, axis=1)\n",
    "    return accuracy.compute(predictions=predictions, references=labels)"
   ]
  },
  {
   "cell_type": "code",
   "execution_count": 50,
   "metadata": {},
   "outputs": [
    {
     "name": "stderr",
     "output_type": "stream",
     "text": [
      "loading configuration file https://huggingface.co/distilbert/distilbert-base-uncased/resolve/main/config.json from cache at /Users/kevkev/.cache/huggingface/transformers/9156cd487ebc07b22755262799b39fcdc0d5ae65bb62a1c8dc21ebe3f74bbf58.91b885ab15d631bf9cee9dc9d25ece0afd932f2f5130eba28f2055b2220c0333\n",
      "Model config DistilBertConfig {\n",
      "  \"_name_or_path\": \"distilbert/distilbert-base-uncased\",\n",
      "  \"activation\": \"gelu\",\n",
      "  \"architectures\": [\n",
      "    \"DistilBertForMaskedLM\"\n",
      "  ],\n",
      "  \"attention_dropout\": 0.1,\n",
      "  \"dim\": 768,\n",
      "  \"dropout\": 0.1,\n",
      "  \"hidden_dim\": 3072,\n",
      "  \"id2label\": {\n",
      "    \"0\": \"NON_AGGRESSIVE\",\n",
      "    \"1\": \"AGGRESSIVE\"\n",
      "  },\n",
      "  \"initializer_range\": 0.02,\n",
      "  \"label2id\": {\n",
      "    \"AGGRESSIVE\": 1,\n",
      "    \"NON_AGGRESSIVE\": 0\n",
      "  },\n",
      "  \"max_position_embeddings\": 512,\n",
      "  \"model_type\": \"distilbert\",\n",
      "  \"n_heads\": 12,\n",
      "  \"n_layers\": 6,\n",
      "  \"pad_token_id\": 0,\n",
      "  \"qa_dropout\": 0.1,\n",
      "  \"seq_classif_dropout\": 0.2,\n",
      "  \"sinusoidal_pos_embds\": false,\n",
      "  \"tie_weights_\": true,\n",
      "  \"transformers_version\": \"4.17.0\",\n",
      "  \"vocab_size\": 30522\n",
      "}\n",
      "\n",
      "loading weights file https://huggingface.co/distilbert/distilbert-base-uncased/resolve/main/pytorch_model.bin from cache at /Users/kevkev/.cache/huggingface/transformers/1c7db6d4091181e587f1ecfbc4cfb993b3b1bbb00393f6046b324983a0e95cd9.126183e36667471617ae2f0835fab707baa54b731f991507ebbb55ea85adb12a\n",
      "Some weights of the model checkpoint at distilbert/distilbert-base-uncased were not used when initializing DistilBertForSequenceClassification: ['vocab_projector.bias', 'vocab_layer_norm.weight', 'vocab_transform.bias', 'vocab_projector.weight', 'vocab_layer_norm.bias', 'vocab_transform.weight']\n",
      "- This IS expected if you are initializing DistilBertForSequenceClassification from the checkpoint of a model trained on another task or with another architecture (e.g. initializing a BertForSequenceClassification model from a BertForPreTraining model).\n",
      "- This IS NOT expected if you are initializing DistilBertForSequenceClassification from the checkpoint of a model that you expect to be exactly identical (initializing a BertForSequenceClassification model from a BertForSequenceClassification model).\n",
      "Some weights of DistilBertForSequenceClassification were not initialized from the model checkpoint at distilbert/distilbert-base-uncased and are newly initialized: ['classifier.bias', 'classifier.weight', 'pre_classifier.weight', 'pre_classifier.bias']\n",
      "You should probably TRAIN this model on a down-stream task to be able to use it for predictions and inference.\n",
      "PyTorch: setting up devices\n",
      "The default value for the training argument `--report_to` will change in v5 (from all installed integrations to none). In v5, you will need to use `--report_to all` to get the same behavior as now. You should start updating your code and make this info disappear :-).\n",
      "***** Running training *****\n",
      "  Num examples = 51375\n",
      "  Num Epochs = 1\n",
      "  Instantaneous batch size per device = 16\n",
      "  Total train batch size (w. parallel, distributed & accumulation) = 16\n",
      "  Gradient Accumulation steps = 1\n",
      "  Total optimization steps = 3211\n"
     ]
    },
    {
     "data": {
      "application/vnd.jupyter.widget-view+json": {
       "model_id": "6da48ea4a13347be969ef6e1486fa1ec",
       "version_major": 2,
       "version_minor": 0
      },
      "text/plain": [
       "  0%|          | 0/3211 [00:00<?, ?it/s]"
      ]
     },
     "metadata": {},
     "output_type": "display_data"
    },
    {
     "name": "stdout",
     "output_type": "stream",
     "text": [
      "{'loss': 0.3551, 'learning_rate': 8.44285269386484e-06, 'epoch': 0.16}\n",
      "{'loss': 0.2868, 'learning_rate': 6.88570538772968e-06, 'epoch': 0.31}\n",
      "{'loss': 0.2744, 'learning_rate': 5.328558081594519e-06, 'epoch': 0.47}\n",
      "{'loss': 0.2633, 'learning_rate': 3.771410775459359e-06, 'epoch': 0.62}\n",
      "{'loss': 0.2511, 'learning_rate': 2.214263469324198e-06, 'epoch': 0.78}\n",
      "{'loss': 0.2453, 'learning_rate': 6.571161631890377e-07, 'epoch': 0.93}\n"
     ]
    },
    {
     "name": "stderr",
     "output_type": "stream",
     "text": [
      "***** Running Evaluation *****\n",
      "  Num examples = 12844\n",
      "  Batch size = 16\n"
     ]
    },
    {
     "data": {
      "application/vnd.jupyter.widget-view+json": {
       "model_id": "0d93acf54a004228a0b90cf01662bf34",
       "version_major": 2,
       "version_minor": 0
      },
      "text/plain": [
       "  0%|          | 0/803 [00:00<?, ?it/s]"
      ]
     },
     "metadata": {},
     "output_type": "display_data"
    },
    {
     "name": "stderr",
     "output_type": "stream",
     "text": [
      "Saving model checkpoint to ./model/checkpoint-3211\n",
      "Configuration saved in ./model/checkpoint-3211/config.json\n"
     ]
    },
    {
     "name": "stdout",
     "output_type": "stream",
     "text": [
      "{'eval_loss': 0.24636918306350708, 'eval_accuracy': 0.8992525692930551, 'eval_runtime': 534.9396, 'eval_samples_per_second': 24.01, 'eval_steps_per_second': 1.501, 'epoch': 1.0}\n"
     ]
    },
    {
     "name": "stderr",
     "output_type": "stream",
     "text": [
      "Model weights saved in ./model/checkpoint-3211/pytorch_model.bin\n",
      "tokenizer config file saved in ./model/checkpoint-3211/tokenizer_config.json\n",
      "Special tokens file saved in ./model/checkpoint-3211/special_tokens_map.json\n",
      "\n",
      "\n",
      "Training completed. Do not forget to share your model on huggingface.co/models =)\n",
      "\n",
      "\n",
      "Loading best model from ./model/checkpoint-3211 (score: 0.24636918306350708).\n"
     ]
    },
    {
     "name": "stdout",
     "output_type": "stream",
     "text": [
      "{'train_runtime': 13143.645, 'train_samples_per_second': 3.909, 'train_steps_per_second': 0.244, 'train_loss': 0.27652568811198625, 'epoch': 1.0}\n"
     ]
    },
    {
     "name": "stderr",
     "output_type": "stream",
     "text": [
      "/Users/kevkev/anaconda3/envs/cse256/lib/python3.12/site-packages/transformers/trainer.py:1535: FutureWarning: You are using `torch.load` with `weights_only=False` (the current default value), which uses the default pickle module implicitly. It is possible to construct malicious pickle data which will execute arbitrary code during unpickling (See https://github.com/pytorch/pytorch/blob/main/SECURITY.md#untrusted-models for more details). In a future release, the default value for `weights_only` will be flipped to `True`. This limits the functions that could be executed during unpickling. Arbitrary objects will no longer be allowed to be loaded via this mode unless they are explicitly allowlisted by the user via `torch.serialization.add_safe_globals`. We recommend you start setting `weights_only=True` for any use case where you don't have full control of the loaded file. Please open an issue on GitHub for any issues related to this experimental feature.\n",
      "  optimizer_kwargs.update({\"scale_parameter\": False, \"relative_step\": False})\n"
     ]
    },
    {
     "data": {
      "text/plain": [
       "TrainOutput(global_step=3211, training_loss=0.27652568811198625, metrics={'train_runtime': 13143.645, 'train_samples_per_second': 3.909, 'train_steps_per_second': 0.244, 'train_loss': 0.27652568811198625, 'epoch': 1.0})"
      ]
     },
     "execution_count": 50,
     "metadata": {},
     "output_type": "execute_result"
    }
   ],
   "source": [
    "model_dir = \"./model\"\n",
    "if not os.path.exists(data_dir):\n",
    "  os.makedirs(data_dir)\n",
    "\n",
    "id2label = {0: \"NON_AGGRESSIVE\", 1: \"AGGRESSIVE\"}\n",
    "label2id = {\"NON_AGGRESSIVE\": 0, \"AGGRESSIVE\": 1}\n",
    "\n",
    "model = AutoModelForSequenceClassification.from_pretrained(\n",
    "    \"distilbert/distilbert-base-uncased\", num_labels=2, id2label=id2label, label2id=label2id\n",
    ")\n",
    "\n",
    "training_args = TrainingArguments(\n",
    "    output_dir=model_dir,\n",
    "    learning_rate=1e-5,\n",
    "    per_device_train_batch_size=16,\n",
    "    per_device_eval_batch_size=16,\n",
    "    num_train_epochs=1,\n",
    "    weight_decay=0.01,\n",
    "    evaluation_strategy=\"epoch\",\n",
    "    save_strategy=\"epoch\",\n",
    "    load_best_model_at_end=True,\n",
    "    push_to_hub=False,\n",
    ")\n",
    "\n",
    "trainer = Trainer(\n",
    "    model=model,\n",
    "    args=training_args,\n",
    "    train_dataset=tokenized_data['train'],\n",
    "    eval_dataset=tokenized_data['test'],\n",
    "    tokenizer=tokenizer,\n",
    "    data_collator=data_collator,\n",
    "    compute_metrics=compute_metrics,\n",
    ")\n",
    "\n",
    "trainer.train()\n"
   ]
  },
  {
   "cell_type": "code",
   "execution_count": 18,
   "metadata": {},
   "outputs": [
    {
     "name": "stderr",
     "output_type": "stream",
     "text": [
      "100%|██████████| 402/402 [06:10<00:00,  1.09it/s]\n"
     ]
    },
    {
     "name": "stdout",
     "output_type": "stream",
     "text": [
      "Fine-tuned Accuracy: 0.8993926179722784\n"
     ]
    },
    {
     "name": "stderr",
     "output_type": "stream",
     "text": [
      "Some weights of DistilBertForSequenceClassification were not initialized from the model checkpoint at distilbert/distilbert-base-uncased and are newly initialized: ['classifier.bias', 'classifier.weight', 'pre_classifier.bias', 'pre_classifier.weight']\n",
      "You should probably TRAIN this model on a down-stream task to be able to use it for predictions and inference.\n",
      "100%|██████████| 402/402 [06:10<00:00,  1.08it/s]"
     ]
    },
    {
     "name": "stdout",
     "output_type": "stream",
     "text": [
      "Pre-trained Accuracy: 0.43186419560816075\n"
     ]
    },
    {
     "name": "stderr",
     "output_type": "stream",
     "text": [
      "\n"
     ]
    }
   ],
   "source": [
    "tokenizer = AutoTokenizer.from_pretrained(\"./model/checkpoint-3211\")\n",
    "test_inputs = tokenizer(test_messages, padding=True, truncation=True, return_tensors=\"pt\")\n",
    "\n",
    "fine_tuned_model = AutoModelForSequenceClassification.from_pretrained(\"./model/checkpoint-3211\")\n",
    "\n",
    "with torch.no_grad():\n",
    "  logits = []\n",
    "  for i in tqdm(range(0, len(test_inputs[\"input_ids\"]), 16)):\n",
    "    logits.append(fine_tuned_model(**{k: v[i:i+16] for k, v in test_inputs.items()}).logits)\n",
    "  logits = torch.cat(logits, dim=0)\n",
    "\n",
    "fine_tuned_pred = torch.argmax(logits, dim=-1)\n",
    "\n",
    "print(f'Fine-tuned Accuracy: {accuracy_score(test_labels, fine_tuned_pred)}')\n",
    "\n",
    "tokenizer = AutoTokenizer.from_pretrained(MODEL_NAME)\n",
    "test_inputs = tokenizer(test_messages, padding=True, truncation=True, return_tensors=\"pt\")\n",
    "\n",
    "pre_trained_model = AutoModelForSequenceClassification.from_pretrained(MODEL_NAME)\n",
    "\n",
    "with torch.no_grad():\n",
    "  logits = []\n",
    "  for i in tqdm(range(0, len(test_inputs[\"input_ids\"]), 16)):\n",
    "    logits.append(pre_trained_model(**{k: v[i:i+16] for k, v in test_inputs.items()}).logits)\n",
    "  logits = torch.cat(logits, dim=0)\n",
    "\n",
    "pre_trained_pred = torch.argmax(logits, dim=-1)\n",
    "\n",
    "print(f'Pre-trained Accuracy: {accuracy_score(test_labels, pre_trained_pred)}')\n",
    "\n",
    "res_dir = \"./results\"\n",
    "if not os.path.exists(res_dir):\n",
    "  os.makedirs(res_dir)\n",
    "\n",
    "import json\n",
    "\n",
    "with open(os.path.join(res_dir, \"fine_tuned_pred.json\"), \"w\") as f:\n",
    "  json.dump(fine_tuned_pred.tolist(), f)\n",
    "\n",
    "with open(os.path.join(res_dir, \"pre_trained_pred.json\"), \"w\") as f:\n",
    "  json.dump(pre_trained_pred.tolist(), f)\n"
   ]
  }
 ],
 "metadata": {
  "kernelspec": {
   "display_name": "cse256",
   "language": "python",
   "name": "python3"
  },
  "language_info": {
   "codemirror_mode": {
    "name": "ipython",
    "version": 3
   },
   "file_extension": ".py",
   "mimetype": "text/x-python",
   "name": "python",
   "nbconvert_exporter": "python",
   "pygments_lexer": "ipython3",
   "version": "3.12.7"
  }
 },
 "nbformat": 4,
 "nbformat_minor": 2
}
