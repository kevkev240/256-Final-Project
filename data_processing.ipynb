{
 "cells": [
  {
   "cell_type": "code",
   "execution_count": 32,
   "id": "f212efc5-5de3-4f8f-91e9-b244ed162809",
   "metadata": {},
   "outputs": [
    {
     "name": "stdout",
     "output_type": "stream",
     "text": [
      "37369 96581\n",
      "2756\n",
      "128438\n"
     ]
    }
   ],
   "source": [
    "import os\n",
    "import pandas as pd\n",
    "\n",
    "data_dir = \"data\"\n",
    "\n",
    "aggressive_file = os.path.join(data_dir, \"Aggressive_All.csv\")\n",
    "non_aggressive_file = os.path.join(data_dir, \"Non_Aggressive_All.csv\")\n",
    "\n",
    "aggressive_df = pd.read_csv(aggressive_file)\n",
    "non_aggressive_df = pd.read_csv(non_aggressive_file)\n",
    "\n",
    "aggressive_df = aggressive_df.dropna()\n",
    "non_aggressive_df = non_aggressive_df.dropna()\n",
    "\n",
    "aggressive_df = aggressive_df.drop_duplicates(subset=[\"Message\"], keep='first')\n",
    "non_aggressive_df = non_aggressive_df.drop_duplicates(subset=[\"Message\"], keep='first')\n",
    "\n",
    "aggressive_df[\"Aggressive\"] = 1\n",
    "non_aggressive_df[\"Aggressive\"] = 0\n",
    "\n",
    "speech_df = pd.concat([aggressive_df, non_aggressive_df], axis=0)\n",
    "speech_df = speech_df.sample(frac=1).reset_index(drop=True)[[\"Message\", \"Aggressive\"]]\n",
    "\n",
    "df = speech_df.copy()\n",
    "duplicate = df.groupby(\"Message\").agg({\"Aggressive\": \"nunique\"}).query(\"Aggressive > 1\")\n",
    "\n",
    "speech_df = speech_df[~speech_df[\"Message\"].isin(duplicate.index)]\n",
    "\n",
    "speech_df.head()\n",
    "\n",
    "speech_df.to_csv(os.path.join(data_dir, \"messages.csv\"), index=False)\n",
    "\n",
    "print(len(aggressive_df), len(non_aggressive_df))\n",
    "print(len(duplicate))\n",
    "print(len(speech_df))"
   ]
  }
 ],
 "metadata": {
  "kernelspec": {
   "display_name": "cse256",
   "language": "python",
   "name": "python3"
  },
  "language_info": {
   "codemirror_mode": {
    "name": "ipython",
    "version": 3
   },
   "file_extension": ".py",
   "mimetype": "text/x-python",
   "name": "python",
   "nbconvert_exporter": "python",
   "pygments_lexer": "ipython3",
   "version": "3.12.7"
  }
 },
 "nbformat": 4,
 "nbformat_minor": 5
}
